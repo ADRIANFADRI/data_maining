{
 "cells": [
  {
   "cell_type": "code",
   "execution_count": 3,
   "id": "cfc53f1c",
   "metadata": {},
   "outputs": [],
   "source": [
    "student={\n",
    "    \"nama\" : \"Fadri\",\n",
    "    \"umur\" : 26,\n",
    "    \"tinggi\" : 200.1,\n",
    "    \"hobi\" : [\"olahraga\", \"Jalan-jalan\"],\n",
    "    \"kontak\" : {\n",
    "        \"Website\" : \"ngodingdata.com\",\n",
    "        \"email\" : \"ngodingdata@gmail.com\"\n",
    "    }\n",
    "}"
   ]
  },
  {
   "cell_type": "code",
   "execution_count": 4,
   "id": "e049ced9",
   "metadata": {},
   "outputs": [
    {
     "name": "stdout",
     "output_type": "stream",
     "text": [
      "{'nama': 'Fadri', 'umur': 26, 'tinggi': 200.1, 'hobi': ['olahraga', 'Jalan-jalan'], 'kontak': {'Website': 'ngodingdata.com', 'email': 'ngodingdata@gmail.com'}}\n"
     ]
    }
   ],
   "source": [
    "print(student)"
   ]
  }
 ],
 "metadata": {
  "kernelspec": {
   "display_name": "Python 3 (ipykernel)",
   "language": "python",
   "name": "python3"
  },
  "language_info": {
   "codemirror_mode": {
    "name": "ipython",
    "version": 3
   },
   "file_extension": ".py",
   "mimetype": "text/x-python",
   "name": "python",
   "nbconvert_exporter": "python",
   "pygments_lexer": "ipython3",
   "version": "3.11.5"
  }
 },
 "nbformat": 4,
 "nbformat_minor": 5
}
