{
 "cells": [
  {
   "cell_type": "code",
   "execution_count": 9,
   "id": "d2e4480c",
   "metadata": {},
   "outputs": [
    {
     "name": "stdout",
     "output_type": "stream",
     "text": [
      "masukan nilai IPK=a\n"
     ]
    }
   ],
   "source": [
    "ipk=input(\"masukan nilai IPK=\")"
   ]
  },
  {
   "cell_type": "code",
   "execution_count": 10,
   "id": "a8dbd75c",
   "metadata": {},
   "outputs": [
    {
     "name": "stdout",
     "output_type": "stream",
     "text": [
      "pilihan hanya A/B/C/D/E !\n"
     ]
    }
   ],
   "source": [
    "if ipk == \"A\":\n",
    "    print(\"Nilai anda SEMPURNA\")\n",
    "elif ipk == \"B\":\n",
    "    print(\"Nilai anda BAGUS\")\n",
    "elif ipk == \"C\":\n",
    "    print(\"Nilai anda CUKUP\")\n",
    "elif ipk == \"D\":\n",
    "    print(\"Nilai anda KURANG\")\n",
    "elif ipk == \"E\":\n",
    "    print(\"Nilai anda PARAH\")\n",
    "else:\n",
    "    print(\"pilihan hanya A/B/C/D/E !\")"
   ]
  }
 ],
 "metadata": {
  "kernelspec": {
   "display_name": "Python 3 (ipykernel)",
   "language": "python",
   "name": "python3"
  },
  "language_info": {
   "codemirror_mode": {
    "name": "ipython",
    "version": 3
   },
   "file_extension": ".py",
   "mimetype": "text/x-python",
   "name": "python",
   "nbconvert_exporter": "python",
   "pygments_lexer": "ipython3",
   "version": "3.11.5"
  }
 },
 "nbformat": 4,
 "nbformat_minor": 5
}
